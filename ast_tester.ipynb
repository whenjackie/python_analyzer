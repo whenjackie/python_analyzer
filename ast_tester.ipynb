{
 "cells": [
  {
   "cell_type": "code",
   "execution_count": 42,
   "metadata": {},
   "outputs": [],
   "source": [
    "import ast\n",
    "\n",
    "class NodeVisitor(ast.NodeVisitor):\n",
    "    \n",
    "    def visit_Str(self, tree_node):\n",
    "        print('{}'.format(tree_node.s))\n",
    "        \n",
    "    def visit_Return(self, tree_node):\n",
    "#         print(tree_node.value)\n",
    "        if(isinstance(tree_node.value, ast.Str)):\n",
    "            print('Returns the string: {}'.format(tree_node.value.s))\n",
    "    \n",
    "#     def visit_FunctionDef(self, tree_node):\n",
    "#         print('Function name: {}'.format(tree_node.name))\n",
    "#         print('Function arguments: {}'.format(tree_node.args))\n",
    "\n",
    "\n",
    "class NodeTransformer(ast.NodeTransformer):\n",
    "    def visit_Str(self, tree_node):\n",
    "        return ast.Str('String: ' + tree_node.s)\n",
    "\n",
    "class FuncLister(ast.NodeVisitor):\n",
    "    def visit_FunctionDef(self, node):\n",
    "        print(node.name)\n",
    "        self.generic_visit(node)"
   ]
  },
  {
   "cell_type": "code",
   "execution_count": 2,
   "metadata": {},
   "outputs": [
    {
     "data": {
      "text/plain": [
       "\"Module(body=[Expr(value=Call(func=Name(id='print', ctx=Load()), args=[Str(s='hello world')], keywords=[]))])\""
      ]
     },
     "execution_count": 2,
     "metadata": {},
     "output_type": "execute_result"
    }
   ],
   "source": [
    "tree = ast.parse(\"print('hello world')\")\n",
    "ast.dump(tree)"
   ]
  },
  {
   "cell_type": "code",
   "execution_count": 3,
   "metadata": {},
   "outputs": [
    {
     "data": {
      "text/plain": [
       "\"Module(body=[Expr(value=Call(func=Name(id='print', ctx=Load()), args=[Str(s='hi')], keywords=[])), Return(value=Str(s='Hello World!'))])\""
      ]
     },
     "execution_count": 3,
     "metadata": {},
     "output_type": "execute_result"
    }
   ],
   "source": [
    "tree2 = ast.parse(\"print('hi') \\nreturn 'Hello World!'\")\n",
    "ast.dump(tree2)"
   ]
  },
  {
   "cell_type": "code",
   "execution_count": 6,
   "metadata": {},
   "outputs": [
    {
     "name": "stdout",
     "output_type": "stream",
     "text": [
      "<_ast.Module object at 0x3ded3ac>\n",
      "<_ast.Expr object at 0x3e0b04c>\n",
      "<_ast.Return object at 0x3e0b0cc>\n",
      "<_ast.Call object at 0x3e0b06c>\n",
      "<_ast.Str object at 0x3e0b0ec>\n",
      "<_ast.Name object at 0x3e0b08c>\n",
      "<_ast.Str object at 0x3e0b0ac>\n",
      "<_ast.Load object at 0x2a6020c>\n"
     ]
    }
   ],
   "source": [
    "for node in ast.walk(tree2):\n",
    "    print(node)"
   ]
  },
  {
   "cell_type": "code",
   "execution_count": 45,
   "metadata": {},
   "outputs": [
    {
     "data": {
      "text/plain": [
       "\"Module(body=[FunctionDef(name='hello', args=arguments(args=[], vararg=None, kwonlyargs=[], kw_defaults=[], kwarg=None, defaults=[]), body=[Return(value=Str(s='Hello, World!'))], decorator_list=[], returns=None)])\""
      ]
     },
     "execution_count": 45,
     "metadata": {},
     "output_type": "execute_result"
    }
   ],
   "source": [
    "r = open('parse.py','r')\n",
    "tree3 = ast.parse(r.read())\n",
    "ast.dump(tree3)"
   ]
  },
  {
   "cell_type": "code",
   "execution_count": 23,
   "metadata": {},
   "outputs": [
    {
     "name": "stdout",
     "output_type": "stream",
     "text": [
      "hello\n"
     ]
    }
   ],
   "source": [
    "FuncLister().visit(tree3)"
   ]
  },
  {
   "cell_type": "code",
   "execution_count": 46,
   "metadata": {},
   "outputs": [
    {
     "name": "stdout",
     "output_type": "stream",
     "text": [
      "hello\n",
      "<_ast.Str object at 0x3e939ac>\n",
      "Hello, World!\n"
     ]
    }
   ],
   "source": [
    "for node in ast.walk(tree3):\n",
    "    if isinstance(node, ast.FunctionDef):\n",
    "        print(node.name)\n",
    "    if isinstance(node, ast.Return):\n",
    "        print(node.value)\n",
    "        if isinstance(node.value, ast.Str):\n",
    "            print(node.value.s)"
   ]
  },
  {
   "cell_type": "code",
   "execution_count": 47,
   "metadata": {},
   "outputs": [
    {
     "name": "stdout",
     "output_type": "stream",
     "text": [
      "Returns the string: Hello, World!\n"
     ]
    }
   ],
   "source": [
    "NodeVisitor().visit(tree3)"
   ]
  },
  {
   "cell_type": "code",
   "execution_count": null,
   "metadata": {},
   "outputs": [],
   "source": []
  }
 ],
 "metadata": {
  "kernelspec": {
   "display_name": "Python 3",
   "language": "python",
   "name": "python3"
  },
  "language_info": {
   "codemirror_mode": {
    "name": "ipython",
    "version": 3
   },
   "file_extension": ".py",
   "mimetype": "text/x-python",
   "name": "python",
   "nbconvert_exporter": "python",
   "pygments_lexer": "ipython3",
   "version": "3.5.4"
  }
 },
 "nbformat": 4,
 "nbformat_minor": 2
}
